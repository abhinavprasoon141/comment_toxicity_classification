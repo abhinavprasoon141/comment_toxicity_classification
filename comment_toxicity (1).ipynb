{
  "cells": [
    {
      "cell_type": "markdown",
      "metadata": {
        "id": "04o8TP3RadRv"
      },
      "source": [
        "# 1. Problem Statement\n",
        "\n",
        "We are provided with a large number of Wikipedia comments which have been labeled by human raters for toxic behavior. The types of toxicity are:\n",
        "\n",
        "* toxic\n",
        "* severe_toxic\n",
        "* obscene\n",
        "* threat\n",
        "* insult\n",
        "* dentity_hate\n",
        "\n",
        "We must create a model which predicts a probability of each type of toxicity for each comment.\n",
        "\n",
        "It is a Supervised Learning and Multiclass Classification Problem.\n"
      ]
    },
    {
      "cell_type": "code",
      "execution_count": 2,
      "metadata": {
        "id": "oZNansSJbbIM"
      },
      "outputs": [],
      "source": [
        "#importing necessary libraries\n",
        "import pandas as pd\n",
        "import numpy as np\n",
        "import tensorflow as tf\n",
        "import os\n",
        "import matplotlib.pyplot as plt\n",
        "%matplotlib inline"
      ]
    },
    {
      "cell_type": "code",
      "source": [
        "from google.colab import drive\n",
        "drive.mount('/content/drive')"
      ],
      "metadata": {
        "colab": {
          "base_uri": "https://localhost:8080/"
        },
        "id": "rFfGr2ooPBNV",
        "outputId": "3da15928-f0cf-4332-f6fd-cf8acabfb9ce"
      },
      "execution_count": 3,
      "outputs": [
        {
          "output_type": "stream",
          "name": "stdout",
          "text": [
            "Mounted at /content/drive\n"
          ]
        }
      ]
    },
    {
      "cell_type": "markdown",
      "metadata": {
        "id": "Kip5wrHCdGnA"
      },
      "source": [
        "#2. Data Collection\n",
        "\n",
        "For our dataset we are using Kaggle dataset provided by Jigsaw under their competition.\n",
        "\n",
        "Dataset Link-https://www.kaggle.com/competitions/jigsaw-toxic-comment-classification-challenge/data"
      ]
    },
    {
      "cell_type": "code",
      "execution_count": 4,
      "metadata": {
        "id": "qBVEhnKCc7nM"
      },
      "outputs": [],
      "source": [
        "df=pd.read_csv(\"/content/drive/MyDrive/jigsaw-toxic-comment-classification-challenge/train.csv/train.csv\")"
      ]
    },
    {
      "cell_type": "code",
      "execution_count": 5,
      "metadata": {
        "colab": {
          "base_uri": "https://localhost:8080/",
          "height": 206
        },
        "id": "tAmN4gSGd3Vx",
        "outputId": "32950497-96a6-4ee7-9198-994e01bcb70e"
      },
      "outputs": [
        {
          "output_type": "execute_result",
          "data": {
            "text/plain": [
              "                 id                                       comment_text  toxic  \\\n",
              "0  0000997932d777bf  Explanation\\nWhy the edits made under my usern...      0   \n",
              "1  000103f0d9cfb60f  D'aww! He matches this background colour I'm s...      0   \n",
              "2  000113f07ec002fd  Hey man, I'm really not trying to edit war. It...      0   \n",
              "3  0001b41b1c6bb37e  \"\\nMore\\nI can't make any real suggestions on ...      0   \n",
              "4  0001d958c54c6e35  You, sir, are my hero. Any chance you remember...      0   \n",
              "\n",
              "   severe_toxic  obscene  threat  insult  identity_hate  \n",
              "0             0        0       0       0              0  \n",
              "1             0        0       0       0              0  \n",
              "2             0        0       0       0              0  \n",
              "3             0        0       0       0              0  \n",
              "4             0        0       0       0              0  "
            ],
            "text/html": [
              "\n",
              "  <div id=\"df-118cdf13-d658-44cc-be90-4625471cc72f\" class=\"colab-df-container\">\n",
              "    <div>\n",
              "<style scoped>\n",
              "    .dataframe tbody tr th:only-of-type {\n",
              "        vertical-align: middle;\n",
              "    }\n",
              "\n",
              "    .dataframe tbody tr th {\n",
              "        vertical-align: top;\n",
              "    }\n",
              "\n",
              "    .dataframe thead th {\n",
              "        text-align: right;\n",
              "    }\n",
              "</style>\n",
              "<table border=\"1\" class=\"dataframe\">\n",
              "  <thead>\n",
              "    <tr style=\"text-align: right;\">\n",
              "      <th></th>\n",
              "      <th>id</th>\n",
              "      <th>comment_text</th>\n",
              "      <th>toxic</th>\n",
              "      <th>severe_toxic</th>\n",
              "      <th>obscene</th>\n",
              "      <th>threat</th>\n",
              "      <th>insult</th>\n",
              "      <th>identity_hate</th>\n",
              "    </tr>\n",
              "  </thead>\n",
              "  <tbody>\n",
              "    <tr>\n",
              "      <th>0</th>\n",
              "      <td>0000997932d777bf</td>\n",
              "      <td>Explanation\\nWhy the edits made under my usern...</td>\n",
              "      <td>0</td>\n",
              "      <td>0</td>\n",
              "      <td>0</td>\n",
              "      <td>0</td>\n",
              "      <td>0</td>\n",
              "      <td>0</td>\n",
              "    </tr>\n",
              "    <tr>\n",
              "      <th>1</th>\n",
              "      <td>000103f0d9cfb60f</td>\n",
              "      <td>D'aww! He matches this background colour I'm s...</td>\n",
              "      <td>0</td>\n",
              "      <td>0</td>\n",
              "      <td>0</td>\n",
              "      <td>0</td>\n",
              "      <td>0</td>\n",
              "      <td>0</td>\n",
              "    </tr>\n",
              "    <tr>\n",
              "      <th>2</th>\n",
              "      <td>000113f07ec002fd</td>\n",
              "      <td>Hey man, I'm really not trying to edit war. It...</td>\n",
              "      <td>0</td>\n",
              "      <td>0</td>\n",
              "      <td>0</td>\n",
              "      <td>0</td>\n",
              "      <td>0</td>\n",
              "      <td>0</td>\n",
              "    </tr>\n",
              "    <tr>\n",
              "      <th>3</th>\n",
              "      <td>0001b41b1c6bb37e</td>\n",
              "      <td>\"\\nMore\\nI can't make any real suggestions on ...</td>\n",
              "      <td>0</td>\n",
              "      <td>0</td>\n",
              "      <td>0</td>\n",
              "      <td>0</td>\n",
              "      <td>0</td>\n",
              "      <td>0</td>\n",
              "    </tr>\n",
              "    <tr>\n",
              "      <th>4</th>\n",
              "      <td>0001d958c54c6e35</td>\n",
              "      <td>You, sir, are my hero. Any chance you remember...</td>\n",
              "      <td>0</td>\n",
              "      <td>0</td>\n",
              "      <td>0</td>\n",
              "      <td>0</td>\n",
              "      <td>0</td>\n",
              "      <td>0</td>\n",
              "    </tr>\n",
              "  </tbody>\n",
              "</table>\n",
              "</div>\n",
              "    <div class=\"colab-df-buttons\">\n",
              "\n",
              "  <div class=\"colab-df-container\">\n",
              "    <button class=\"colab-df-convert\" onclick=\"convertToInteractive('df-118cdf13-d658-44cc-be90-4625471cc72f')\"\n",
              "            title=\"Convert this dataframe to an interactive table.\"\n",
              "            style=\"display:none;\">\n",
              "\n",
              "  <svg xmlns=\"http://www.w3.org/2000/svg\" height=\"24px\" viewBox=\"0 -960 960 960\">\n",
              "    <path d=\"M120-120v-720h720v720H120Zm60-500h600v-160H180v160Zm220 220h160v-160H400v160Zm0 220h160v-160H400v160ZM180-400h160v-160H180v160Zm440 0h160v-160H620v160ZM180-180h160v-160H180v160Zm440 0h160v-160H620v160Z\"/>\n",
              "  </svg>\n",
              "    </button>\n",
              "\n",
              "  <style>\n",
              "    .colab-df-container {\n",
              "      display:flex;\n",
              "      gap: 12px;\n",
              "    }\n",
              "\n",
              "    .colab-df-convert {\n",
              "      background-color: #E8F0FE;\n",
              "      border: none;\n",
              "      border-radius: 50%;\n",
              "      cursor: pointer;\n",
              "      display: none;\n",
              "      fill: #1967D2;\n",
              "      height: 32px;\n",
              "      padding: 0 0 0 0;\n",
              "      width: 32px;\n",
              "    }\n",
              "\n",
              "    .colab-df-convert:hover {\n",
              "      background-color: #E2EBFA;\n",
              "      box-shadow: 0px 1px 2px rgba(60, 64, 67, 0.3), 0px 1px 3px 1px rgba(60, 64, 67, 0.15);\n",
              "      fill: #174EA6;\n",
              "    }\n",
              "\n",
              "    .colab-df-buttons div {\n",
              "      margin-bottom: 4px;\n",
              "    }\n",
              "\n",
              "    [theme=dark] .colab-df-convert {\n",
              "      background-color: #3B4455;\n",
              "      fill: #D2E3FC;\n",
              "    }\n",
              "\n",
              "    [theme=dark] .colab-df-convert:hover {\n",
              "      background-color: #434B5C;\n",
              "      box-shadow: 0px 1px 3px 1px rgba(0, 0, 0, 0.15);\n",
              "      filter: drop-shadow(0px 1px 2px rgba(0, 0, 0, 0.3));\n",
              "      fill: #FFFFFF;\n",
              "    }\n",
              "  </style>\n",
              "\n",
              "    <script>\n",
              "      const buttonEl =\n",
              "        document.querySelector('#df-118cdf13-d658-44cc-be90-4625471cc72f button.colab-df-convert');\n",
              "      buttonEl.style.display =\n",
              "        google.colab.kernel.accessAllowed ? 'block' : 'none';\n",
              "\n",
              "      async function convertToInteractive(key) {\n",
              "        const element = document.querySelector('#df-118cdf13-d658-44cc-be90-4625471cc72f');\n",
              "        const dataTable =\n",
              "          await google.colab.kernel.invokeFunction('convertToInteractive',\n",
              "                                                    [key], {});\n",
              "        if (!dataTable) return;\n",
              "\n",
              "        const docLinkHtml = 'Like what you see? Visit the ' +\n",
              "          '<a target=\"_blank\" href=https://colab.research.google.com/notebooks/data_table.ipynb>data table notebook</a>'\n",
              "          + ' to learn more about interactive tables.';\n",
              "        element.innerHTML = '';\n",
              "        dataTable['output_type'] = 'display_data';\n",
              "        await google.colab.output.renderOutput(dataTable, element);\n",
              "        const docLink = document.createElement('div');\n",
              "        docLink.innerHTML = docLinkHtml;\n",
              "        element.appendChild(docLink);\n",
              "      }\n",
              "    </script>\n",
              "  </div>\n",
              "\n",
              "\n",
              "<div id=\"df-53b544e8-05f7-4848-86d3-b9f083256c01\">\n",
              "  <button class=\"colab-df-quickchart\" onclick=\"quickchart('df-53b544e8-05f7-4848-86d3-b9f083256c01')\"\n",
              "            title=\"Suggest charts.\"\n",
              "            style=\"display:none;\">\n",
              "\n",
              "<svg xmlns=\"http://www.w3.org/2000/svg\" height=\"24px\"viewBox=\"0 0 24 24\"\n",
              "     width=\"24px\">\n",
              "    <g>\n",
              "        <path d=\"M19 3H5c-1.1 0-2 .9-2 2v14c0 1.1.9 2 2 2h14c1.1 0 2-.9 2-2V5c0-1.1-.9-2-2-2zM9 17H7v-7h2v7zm4 0h-2V7h2v10zm4 0h-2v-4h2v4z\"/>\n",
              "    </g>\n",
              "</svg>\n",
              "  </button>\n",
              "\n",
              "<style>\n",
              "  .colab-df-quickchart {\n",
              "      --bg-color: #E8F0FE;\n",
              "      --fill-color: #1967D2;\n",
              "      --hover-bg-color: #E2EBFA;\n",
              "      --hover-fill-color: #174EA6;\n",
              "      --disabled-fill-color: #AAA;\n",
              "      --disabled-bg-color: #DDD;\n",
              "  }\n",
              "\n",
              "  [theme=dark] .colab-df-quickchart {\n",
              "      --bg-color: #3B4455;\n",
              "      --fill-color: #D2E3FC;\n",
              "      --hover-bg-color: #434B5C;\n",
              "      --hover-fill-color: #FFFFFF;\n",
              "      --disabled-bg-color: #3B4455;\n",
              "      --disabled-fill-color: #666;\n",
              "  }\n",
              "\n",
              "  .colab-df-quickchart {\n",
              "    background-color: var(--bg-color);\n",
              "    border: none;\n",
              "    border-radius: 50%;\n",
              "    cursor: pointer;\n",
              "    display: none;\n",
              "    fill: var(--fill-color);\n",
              "    height: 32px;\n",
              "    padding: 0;\n",
              "    width: 32px;\n",
              "  }\n",
              "\n",
              "  .colab-df-quickchart:hover {\n",
              "    background-color: var(--hover-bg-color);\n",
              "    box-shadow: 0 1px 2px rgba(60, 64, 67, 0.3), 0 1px 3px 1px rgba(60, 64, 67, 0.15);\n",
              "    fill: var(--button-hover-fill-color);\n",
              "  }\n",
              "\n",
              "  .colab-df-quickchart-complete:disabled,\n",
              "  .colab-df-quickchart-complete:disabled:hover {\n",
              "    background-color: var(--disabled-bg-color);\n",
              "    fill: var(--disabled-fill-color);\n",
              "    box-shadow: none;\n",
              "  }\n",
              "\n",
              "  .colab-df-spinner {\n",
              "    border: 2px solid var(--fill-color);\n",
              "    border-color: transparent;\n",
              "    border-bottom-color: var(--fill-color);\n",
              "    animation:\n",
              "      spin 1s steps(1) infinite;\n",
              "  }\n",
              "\n",
              "  @keyframes spin {\n",
              "    0% {\n",
              "      border-color: transparent;\n",
              "      border-bottom-color: var(--fill-color);\n",
              "      border-left-color: var(--fill-color);\n",
              "    }\n",
              "    20% {\n",
              "      border-color: transparent;\n",
              "      border-left-color: var(--fill-color);\n",
              "      border-top-color: var(--fill-color);\n",
              "    }\n",
              "    30% {\n",
              "      border-color: transparent;\n",
              "      border-left-color: var(--fill-color);\n",
              "      border-top-color: var(--fill-color);\n",
              "      border-right-color: var(--fill-color);\n",
              "    }\n",
              "    40% {\n",
              "      border-color: transparent;\n",
              "      border-right-color: var(--fill-color);\n",
              "      border-top-color: var(--fill-color);\n",
              "    }\n",
              "    60% {\n",
              "      border-color: transparent;\n",
              "      border-right-color: var(--fill-color);\n",
              "    }\n",
              "    80% {\n",
              "      border-color: transparent;\n",
              "      border-right-color: var(--fill-color);\n",
              "      border-bottom-color: var(--fill-color);\n",
              "    }\n",
              "    90% {\n",
              "      border-color: transparent;\n",
              "      border-bottom-color: var(--fill-color);\n",
              "    }\n",
              "  }\n",
              "</style>\n",
              "\n",
              "  <script>\n",
              "    async function quickchart(key) {\n",
              "      const quickchartButtonEl =\n",
              "        document.querySelector('#' + key + ' button');\n",
              "      quickchartButtonEl.disabled = true;  // To prevent multiple clicks.\n",
              "      quickchartButtonEl.classList.add('colab-df-spinner');\n",
              "      try {\n",
              "        const charts = await google.colab.kernel.invokeFunction(\n",
              "            'suggestCharts', [key], {});\n",
              "      } catch (error) {\n",
              "        console.error('Error during call to suggestCharts:', error);\n",
              "      }\n",
              "      quickchartButtonEl.classList.remove('colab-df-spinner');\n",
              "      quickchartButtonEl.classList.add('colab-df-quickchart-complete');\n",
              "    }\n",
              "    (() => {\n",
              "      let quickchartButtonEl =\n",
              "        document.querySelector('#df-53b544e8-05f7-4848-86d3-b9f083256c01 button');\n",
              "      quickchartButtonEl.style.display =\n",
              "        google.colab.kernel.accessAllowed ? 'block' : 'none';\n",
              "    })();\n",
              "  </script>\n",
              "</div>\n",
              "    </div>\n",
              "  </div>\n"
            ]
          },
          "metadata": {},
          "execution_count": 5
        }
      ],
      "source": [
        "df.head()"
      ]
    },
    {
      "cell_type": "code",
      "execution_count": 6,
      "metadata": {
        "colab": {
          "base_uri": "https://localhost:8080/"
        },
        "id": "0rGo_P7HenSu",
        "outputId": "7eea7253-a84b-40ea-f865-32a26642d548"
      },
      "outputs": [
        {
          "output_type": "execute_result",
          "data": {
            "text/plain": [
              "id                                                0005c987bdfc9d4b\n",
              "comment_text     Hey... what is it..\\n@ | talk .\\nWhat is it......\n",
              "toxic                                                            1\n",
              "severe_toxic                                                     0\n",
              "obscene                                                          0\n",
              "threat                                                           0\n",
              "insult                                                           0\n",
              "identity_hate                                                    0\n",
              "Name: 12, dtype: object"
            ]
          },
          "metadata": {},
          "execution_count": 6
        }
      ],
      "source": [
        "#Example of a toxic comment in our dataset\n",
        "df.iloc[12]"
      ]
    },
    {
      "cell_type": "markdown",
      "metadata": {
        "id": "nt4XxMqYgSKa"
      },
      "source": [
        "#3. Data Preprocessing\n",
        "\n",
        "Here it involves following steps:\n",
        "\n",
        "\n",
        "\n",
        "*   Tokenization-https://vaclavkosar.com/ml/Tokenization-in-Machine-Learning-Explained\n",
        "*   Creation of Training,Test and Validation set\n",
        "\n"
      ]
    },
    {
      "cell_type": "code",
      "execution_count": 7,
      "metadata": {
        "id": "lFBFJD_aeyy7"
      },
      "outputs": [],
      "source": [
        "#Tokenization\n",
        "from tensorflow.keras.layers import TextVectorization"
      ]
    },
    {
      "cell_type": "code",
      "execution_count": 8,
      "metadata": {
        "id": "by8senzLhg3u"
      },
      "outputs": [],
      "source": [
        "x=df[\"comment_text\"]\n",
        "y=df[df.columns[2:]].values #conerts int a numpy array."
      ]
    },
    {
      "cell_type": "code",
      "execution_count": 9,
      "metadata": {
        "colab": {
          "base_uri": "https://localhost:8080/"
        },
        "id": "ThW_eR_4h8A8",
        "outputId": "4946798d-1160-4475-c3c1-53e9afa47ebe"
      },
      "outputs": [
        {
          "output_type": "execute_result",
          "data": {
            "text/plain": [
              "0    Explanation\\nWhy the edits made under my usern...\n",
              "1    D'aww! He matches this background colour I'm s...\n",
              "2    Hey man, I'm really not trying to edit war. It...\n",
              "3    \"\\nMore\\nI can't make any real suggestions on ...\n",
              "4    You, sir, are my hero. Any chance you remember...\n",
              "Name: comment_text, dtype: object"
            ]
          },
          "metadata": {},
          "execution_count": 9
        }
      ],
      "source": [
        "x.head()"
      ]
    },
    {
      "cell_type": "code",
      "execution_count": 10,
      "metadata": {
        "colab": {
          "base_uri": "https://localhost:8080/"
        },
        "id": "jfXUNzksh_0t",
        "outputId": "e6d50e17-4772-475a-c431-a345a48d1262"
      },
      "outputs": [
        {
          "output_type": "execute_result",
          "data": {
            "text/plain": [
              "array([[0, 0, 0, 0, 0, 0],\n",
              "       [0, 0, 0, 0, 0, 0],\n",
              "       [0, 0, 0, 0, 0, 0],\n",
              "       ...,\n",
              "       [0, 0, 0, 0, 0, 0],\n",
              "       [0, 0, 0, 0, 0, 0],\n",
              "       [0, 0, 0, 0, 0, 0]])"
            ]
          },
          "metadata": {},
          "execution_count": 10
        }
      ],
      "source": [
        "y"
      ]
    },
    {
      "cell_type": "code",
      "execution_count": 11,
      "metadata": {
        "id": "1sDOKG_xiTcW"
      },
      "outputs": [],
      "source": [
        "MAX_FEATURES=200000 #No. of words in Vocab of machine's language."
      ]
    },
    {
      "cell_type": "code",
      "execution_count": 12,
      "metadata": {
        "id": "rJ_ocn3_iyz-"
      },
      "outputs": [],
      "source": [
        "vectorizer = TextVectorization(max_tokens=MAX_FEATURES,\n",
        "                            standardize=\"lower_and_strip_punctuation\",\n",
        "                             output_sequence_length=1800,\n",
        "                             output_mode='int')"
      ]
    },
    {
      "cell_type": "code",
      "execution_count": 13,
      "metadata": {
        "id": "UFQ2BJqomWHN"
      },
      "outputs": [],
      "source": [
        "vectorizer.adapt(x.values)"
      ]
    },
    {
      "cell_type": "code",
      "execution_count": 14,
      "metadata": {
        "colab": {
          "base_uri": "https://localhost:8080/"
        },
        "id": "vzURDm0OmjUw",
        "outputId": "ac432f75-11d2-485f-8983-220b9b922492"
      },
      "outputs": [
        {
          "output_type": "execute_result",
          "data": {
            "text/plain": [
              "['',\n",
              " '[UNK]',\n",
              " 'the',\n",
              " 'to',\n",
              " 'of',\n",
              " 'and',\n",
              " 'a',\n",
              " 'you',\n",
              " 'i',\n",
              " 'is',\n",
              " 'that',\n",
              " 'in',\n",
              " 'it',\n",
              " 'for',\n",
              " 'this',\n",
              " 'not',\n",
              " 'on',\n",
              " 'be',\n",
              " 'as',\n",
              " 'have',\n",
              " 'are',\n",
              " 'your',\n",
              " 'with',\n",
              " 'if',\n",
              " 'article',\n",
              " 'was',\n",
              " 'or',\n",
              " 'but',\n",
              " 'page',\n",
              " 'my',\n",
              " 'an',\n",
              " 'from',\n",
              " 'by',\n",
              " 'do',\n",
              " 'at',\n",
              " 'about',\n",
              " 'me',\n",
              " 'so',\n",
              " 'wikipedia',\n",
              " 'can',\n",
              " 'what',\n",
              " 'there',\n",
              " 'all',\n",
              " 'has',\n",
              " 'will',\n",
              " 'talk',\n",
              " 'please',\n",
              " 'would',\n",
              " 'its',\n",
              " 'no',\n",
              " 'one',\n",
              " 'just',\n",
              " 'like',\n",
              " 'they',\n",
              " 'he',\n",
              " 'dont',\n",
              " 'which',\n",
              " 'any',\n",
              " 'been',\n",
              " 'should',\n",
              " 'more',\n",
              " 'we',\n",
              " 'some',\n",
              " 'other',\n",
              " 'who',\n",
              " 'see',\n",
              " 'here',\n",
              " 'also',\n",
              " 'his',\n",
              " 'think',\n",
              " 'im',\n",
              " 'because',\n",
              " 'know',\n",
              " 'how',\n",
              " 'am',\n",
              " 'people',\n",
              " 'why',\n",
              " 'edit',\n",
              " 'articles',\n",
              " 'only',\n",
              " 'out',\n",
              " 'up',\n",
              " 'when',\n",
              " 'were',\n",
              " 'use',\n",
              " 'then',\n",
              " 'may',\n",
              " 'time',\n",
              " 'did',\n",
              " 'them',\n",
              " 'now',\n",
              " 'being',\n",
              " 'their',\n",
              " 'than',\n",
              " 'thanks',\n",
              " 'even',\n",
              " 'get',\n",
              " 'make',\n",
              " 'good',\n",
              " 'had',\n",
              " 'very',\n",
              " 'information',\n",
              " 'does',\n",
              " 'could',\n",
              " 'well',\n",
              " 'want',\n",
              " 'such',\n",
              " 'sources',\n",
              " 'way',\n",
              " 'name',\n",
              " 'these',\n",
              " 'deletion',\n",
              " 'pages',\n",
              " 'first',\n",
              " 'help',\n",
              " 'new',\n",
              " 'editing',\n",
              " 'source',\n",
              " 'go',\n",
              " 'need',\n",
              " 'say',\n",
              " 'section',\n",
              " 'edits',\n",
              " 'again',\n",
              " 'thank',\n",
              " 'where',\n",
              " 'user',\n",
              " 'made',\n",
              " 'many',\n",
              " 'much',\n",
              " 'really',\n",
              " 'used',\n",
              " 'most',\n",
              " 'discussion',\n",
              " 'find',\n",
              " 'same',\n",
              " 'ive',\n",
              " 'deleted',\n",
              " 'into',\n",
              " 'fuck',\n",
              " 'those',\n",
              " 'work',\n",
              " 'since',\n",
              " 'before',\n",
              " 'after',\n",
              " 'point',\n",
              " 'add',\n",
              " 'look',\n",
              " 'right',\n",
              " 'read',\n",
              " 'image',\n",
              " 'take',\n",
              " 'still',\n",
              " 'over',\n",
              " 'someone',\n",
              " 'him',\n",
              " 'two',\n",
              " 'back',\n",
              " 'too',\n",
              " 'fact',\n",
              " 'link',\n",
              " 'said',\n",
              " 'own',\n",
              " 'something',\n",
              " 'going',\n",
              " 'youre',\n",
              " 'blocked',\n",
              " 'list',\n",
              " 'stop',\n",
              " 'without',\n",
              " 'content',\n",
              " 'hi',\n",
              " 'under',\n",
              " 'editors',\n",
              " 'our',\n",
              " 'block',\n",
              " 'thats',\n",
              " 'us',\n",
              " 'added',\n",
              " 'utc',\n",
              " 'history',\n",
              " 'another',\n",
              " 'doesnt',\n",
              " 'removed',\n",
              " 'might',\n",
              " 'note',\n",
              " 'however',\n",
              " 'sure',\n",
              " 'place',\n",
              " 'never',\n",
              " 'done',\n",
              " 'welcome',\n",
              " 'her',\n",
              " 'case',\n",
              " 'put',\n",
              " 'personal',\n",
              " 'seems',\n",
              " 'reason',\n",
              " 'better',\n",
              " 'using',\n",
              " 'yourself',\n",
              " 'cant',\n",
              " 'actually',\n",
              " 'ask',\n",
              " 'comment',\n",
              " 'while',\n",
              " 'vandalism',\n",
              " 'feel',\n",
              " 'question',\n",
              " 'anything',\n",
              " 'believe',\n",
              " 'person',\n",
              " 'links',\n",
              " 'things',\n",
              " 'both',\n",
              " 'didnt',\n",
              " 'comments',\n",
              " 'best',\n",
              " 'ill',\n",
              " 'part',\n",
              " 'she',\n",
              " 'hope',\n",
              " 'policy',\n",
              " 'against',\n",
              " 'off',\n",
              " 'keep',\n",
              " 'already',\n",
              " 'free',\n",
              " 'wiki',\n",
              " 'thing',\n",
              " 'nothing',\n",
              " 'change',\n",
              " 'wrong',\n",
              " 'though',\n",
              " 'problem',\n",
              " 'remove',\n",
              " 'little',\n",
              " 'subject',\n",
              " '•',\n",
              " 'others',\n",
              " 'trying',\n",
              " 'tag',\n",
              " 'copyright',\n",
              " 'must',\n",
              " 'understand',\n",
              " 'above',\n",
              " 'few',\n",
              " 'anyone',\n",
              " 'speedy',\n",
              " 'last',\n",
              " 'issue',\n",
              " 'give',\n",
              " 'questions',\n",
              " 'agree',\n",
              " 'rather',\n",
              " 'years',\n",
              " 'let',\n",
              " '2',\n",
              " 'different',\n",
              " 'editor',\n",
              " 'long',\n",
              " 'reliable',\n",
              " 'making',\n",
              " 'world',\n",
              " 'come',\n",
              " 'sorry',\n",
              " 'isnt',\n",
              " 'reference',\n",
              " 'mean',\n",
              " 'continue',\n",
              " 'try',\n",
              " 'references',\n",
              " 'found',\n",
              " 'doing',\n",
              " 'text',\n",
              " 'great',\n",
              " 'leave',\n",
              " 'says',\n",
              " 'got',\n",
              " 'probably',\n",
              " 'english',\n",
              " 'original',\n",
              " 'every',\n",
              " '1',\n",
              " 'simply',\n",
              " 'word',\n",
              " 'users',\n",
              " 'fair',\n",
              " 'hello',\n",
              " 'either',\n",
              " 'check',\n",
              " 'least',\n",
              " 'adding',\n",
              " 'ip',\n",
              " 'show',\n",
              " 'site',\n",
              " 'state',\n",
              " 'else',\n",
              " 'delete',\n",
              " 'consensus',\n",
              " 'enough',\n",
              " 'request',\n",
              " 'far',\n",
              " 'opinion',\n",
              " 'created',\n",
              " 'around',\n",
              " 'life',\n",
              " 'day',\n",
              " 'between',\n",
              " 'through',\n",
              " 'example',\n",
              " 'view',\n",
              " 'yes',\n",
              " 'reverted',\n",
              " 'yet',\n",
              " 'etc',\n",
              " 'id',\n",
              " 'matter',\n",
              " 'shit',\n",
              " 'u',\n",
              " 'war',\n",
              " 'notable',\n",
              " 'contributions',\n",
              " 'given',\n",
              " 'thought',\n",
              " 'material',\n",
              " 'book',\n",
              " 'admin',\n",
              " 'write',\n",
              " 'post',\n",
              " 'down',\n",
              " 'account',\n",
              " 'clearly',\n",
              " 'having',\n",
              " 'encyclopedia',\n",
              " 'lot',\n",
              " 'support',\n",
              " 'real',\n",
              " 'bad',\n",
              " 'message',\n",
              " 'needs',\n",
              " 'images',\n",
              " 'tell',\n",
              " 'seem',\n",
              " 'called',\n",
              " 'maybe',\n",
              " 'evidence',\n",
              " 'instead',\n",
              " 'ever',\n",
              " '3',\n",
              " 'correct',\n",
              " 'saying',\n",
              " 'clear',\n",
              " 'always',\n",
              " 'number',\n",
              " 'important',\n",
              " 'further',\n",
              " 'quite',\n",
              " 'perhaps',\n",
              " 'old',\n",
              " '—',\n",
              " 'true',\n",
              " 'until',\n",
              " 'hate',\n",
              " 'states',\n",
              " 'whether',\n",
              " 'consider',\n",
              " 'written',\n",
              " 'claim',\n",
              " 'language',\n",
              " 'media',\n",
              " 'bit',\n",
              " 'once',\n",
              " 'guidelines',\n",
              " 'term',\n",
              " 'criteria',\n",
              " 'research',\n",
              " 'nigger',\n",
              " 'version',\n",
              " 'times',\n",
              " 'website',\n",
              " 'getting',\n",
              " 'fucking',\n",
              " 'theres',\n",
              " 'review',\n",
              " 'mention',\n",
              " 'pov',\n",
              " 'oh',\n",
              " 'makes',\n",
              " 'several',\n",
              " 'revert',\n",
              " 'considered',\n",
              " 'changes',\n",
              " 'cannot',\n",
              " 'words',\n",
              " 'idea',\n",
              " 'title',\n",
              " 'suck',\n",
              " 'address',\n",
              " 'notice',\n",
              " 'based',\n",
              " 'top',\n",
              " 'following',\n",
              " 'current',\n",
              " 'each',\n",
              " 'listed',\n",
              " 'means',\n",
              " 'possible',\n",
              " 'group',\n",
              " 'facts',\n",
              " 'regarding',\n",
              " 'care',\n",
              " 'rules',\n",
              " 'second',\n",
              " 'main',\n",
              " 'template',\n",
              " 'mentioned',\n",
              " 'general',\n",
              " 'year',\n",
              " 'attack',\n",
              " 'kind',\n",
              " 'whole',\n",
              " 'course',\n",
              " 'statement',\n",
              " 'left',\n",
              " 'hey',\n",
              " 'date',\n",
              " 'include',\n",
              " 'seen',\n",
              " 'three',\n",
              " 'issues',\n",
              " 'start',\n",
              " 'ass',\n",
              " 'ok',\n",
              " 'end',\n",
              " 'wikipedias',\n",
              " 'call',\n",
              " 'less',\n",
              " 'topic',\n",
              " 'gay',\n",
              " 'suggest',\n",
              " 'man',\n",
              " 'including',\n",
              " 'happy',\n",
              " 'sense',\n",
              " 'provide',\n",
              " 'create',\n",
              " 'big',\n",
              " 'days',\n",
              " 'myself',\n",
              " 'american',\n",
              " 'redirect',\n",
              " 'known',\n",
              " 'sentence',\n",
              " 'move',\n",
              " 'appropriate',\n",
              " 'changed',\n",
              " 'love',\n",
              " 'notability',\n",
              " 'explain',\n",
              " 'started',\n",
              " 'included',\n",
              " 'removing',\n",
              " 'project',\n",
              " 'anyway',\n",
              " 'info',\n",
              " 'mind',\n",
              " 'school',\n",
              " '2005',\n",
              " 'next',\n",
              " 'looking',\n",
              " 'although',\n",
              " 'picture',\n",
              " 'relevant',\n",
              " 'four',\n",
              " 'die',\n",
              " 'sign',\n",
              " 'answer',\n",
              " 'style',\n",
              " 'away',\n",
              " 'per',\n",
              " 'order',\n",
              " 'warning',\n",
              " 'wont',\n",
              " 'recent',\n",
              " 'youve',\n",
              " 'interest',\n",
              " 'community',\n",
              " 'summary',\n",
              " 'later',\n",
              " 'lol',\n",
              " 'claims',\n",
              " 'currently',\n",
              " 'discuss',\n",
              " 'interested',\n",
              " 'policies',\n",
              " 'attacks',\n",
              " 'especially',\n",
              " 'wish',\n",
              " 'wrote',\n",
              " 'able',\n",
              " 'specific',\n",
              " 'public',\n",
              " 'taken',\n",
              " 'writing',\n",
              " 'neutral',\n",
              " 'full',\n",
              " 'names',\n",
              " 'within',\n",
              " '4',\n",
              " 'position',\n",
              " 'related',\n",
              " 'below',\n",
              " 'line',\n",
              " 'wanted',\n",
              " 'during',\n",
              " 'appears',\n",
              " 'stuff',\n",
              " 'certainly',\n",
              " 'official',\n",
              " 'nice',\n",
              " 'itself',\n",
              " 'faith',\n",
              " 'everyone',\n",
              " 'wasnt',\n",
              " 'live',\n",
              " 'report',\n",
              " 'completely',\n",
              " 'according',\n",
              " 'unless',\n",
              " 'common',\n",
              " 'pretty',\n",
              " 'country',\n",
              " 'everything',\n",
              " 'looks',\n",
              " 'due',\n",
              " 'single',\n",
              " 'hes',\n",
              " 'process',\n",
              " 'contribs',\n",
              " 'news',\n",
              " 'involved',\n",
              " 'god',\n",
              " 'fat',\n",
              " 'therefore',\n",
              " 'obviously',\n",
              " 'remember',\n",
              " 'lead',\n",
              " 'hard',\n",
              " 'admins',\n",
              " 'came',\n",
              " 'edited',\n",
              " 'web',\n",
              " 'stay',\n",
              " 'learn',\n",
              " 'response',\n",
              " 'future',\n",
              " 'past',\n",
              " 'asked',\n",
              " 'truth',\n",
              " 'reading',\n",
              " 'power',\n",
              " '2006',\n",
              " 'stupid',\n",
              " 'entry',\n",
              " 'quote',\n",
              " 'posted',\n",
              " 'nor',\n",
              " 'talking',\n",
              " 'placed',\n",
              " '5',\n",
              " 'ago',\n",
              " 'similar',\n",
              " 'email',\n",
              " 'game',\n",
              " 'published',\n",
              " 'exactly',\n",
              " 'today',\n",
              " 'reasons',\n",
              " 'paragraph',\n",
              " 'faggot',\n",
              " 'city',\n",
              " 'argument',\n",
              " 'whatever',\n",
              " 'system',\n",
              " 'working',\n",
              " 'false',\n",
              " 'sandbox',\n",
              " 'moron',\n",
              " 'political',\n",
              " 'noticed',\n",
              " 'useful',\n",
              " 'havent',\n",
              " 'guy',\n",
              " 'high',\n",
              " 'regards',\n",
              " 'united',\n",
              " 'guess',\n",
              " 'appreciate',\n",
              " 'particular',\n",
              " 'deleting',\n",
              " 'form',\n",
              " 'books',\n",
              " 'government',\n",
              " 'dispute',\n",
              " 'five',\n",
              " 'british',\n",
              " 'reverting',\n",
              " 'major',\n",
              " 'problems',\n",
              " 'national',\n",
              " 'party',\n",
              " 'provided',\n",
              " 'often',\n",
              " 'ones',\n",
              " 'become',\n",
              " 'lets',\n",
              " 'tried',\n",
              " 'side',\n",
              " 'administrator',\n",
              " 'along',\n",
              " 'reply',\n",
              " 'almost',\n",
              " 'needed',\n",
              " 'stated',\n",
              " 'rule',\n",
              " 'took',\n",
              " 'search',\n",
              " 'knowledge',\n",
              " 'banned',\n",
              " 'cheers',\n",
              " 'taking',\n",
              " 'vandalize',\n",
              " '–',\n",
              " 'certain',\n",
              " '2007',\n",
              " 'username',\n",
              " 'fine',\n",
              " 'status',\n",
              " 'law',\n",
              " 'points',\n",
              " 'company',\n",
              " 'otherwise',\n",
              " 'uploaded',\n",
              " 'terms',\n",
              " 'explanation',\n",
              " 'generally',\n",
              " 'sort',\n",
              " 'entire',\n",
              " 'shows',\n",
              " 'description',\n",
              " 'whats',\n",
              " 'recently',\n",
              " 'follow',\n",
              " 'guys',\n",
              " '2008',\n",
              " 'likely',\n",
              " 'film',\n",
              " 'present',\n",
              " 'aware',\n",
              " 'saw',\n",
              " 'definition',\n",
              " 'cited',\n",
              " 'alone',\n",
              " 'google',\n",
              " 'music',\n",
              " 'soon',\n",
              " 'indeed',\n",
              " 'decide',\n",
              " 'ban',\n",
              " 'wp',\n",
              " 'appear',\n",
              " 'views',\n",
              " 'week',\n",
              " 'open',\n",
              " 'citation',\n",
              " 'contributing',\n",
              " 'actual',\n",
              " 'set',\n",
              " 'interesting',\n",
              " 'piece',\n",
              " 'c',\n",
              " 'short',\n",
              " 'white',\n",
              " 'told',\n",
              " 'theory',\n",
              " 'area',\n",
              " 'improve',\n",
              " 'external',\n",
              " 'small',\n",
              " 'story',\n",
              " 'contact',\n",
              " 'simple',\n",
              " '2004',\n",
              " 'various',\n",
              " 'allowed',\n",
              " 'moved',\n",
              " 'test',\n",
              " 'internet',\n",
              " 'obvious',\n",
              " 'family',\n",
              " 'band',\n",
              " 'attention',\n",
              " 'arent',\n",
              " 'proposed',\n",
              " 'jew',\n",
              " 'themselves',\n",
              " 'members',\n",
              " 'wouldnt',\n",
              " 'result',\n",
              " 'disagree',\n",
              " 'thus',\n",
              " 'cunt',\n",
              " 'went',\n",
              " 'type',\n",
              " 'sites',\n",
              " 'ie',\n",
              " 'context',\n",
              " 'mr',\n",
              " 'previous',\n",
              " 'nonsense',\n",
              " 'actions',\n",
              " 'tags',\n",
              " 'cite',\n",
              " 'works',\n",
              " '10',\n",
              " 'citations',\n",
              " 'jews',\n",
              " 'university',\n",
              " 're',\n",
              " 'enjoy',\n",
              " 'conflict',\n",
              " 'hours',\n",
              " 'shouldnt',\n",
              " 'proper',\n",
              " 'bias',\n",
              " 'category',\n",
              " 'job',\n",
              " 'longer',\n",
              " 'file',\n",
              " 'together',\n",
              " 'hell',\n",
              " 'sourced',\n",
              " 'sucks',\n",
              " 'addition',\n",
              " 'happened',\n",
              " 'avoid',\n",
              " 'automatically',\n",
              " 'author',\n",
              " 'valid',\n",
              " 'black',\n",
              " 'creating',\n",
              " 'deal',\n",
              " 'worked',\n",
              " 'npov',\n",
              " 'goes',\n",
              " 'himself',\n",
              " 'seriously',\n",
              " 'john',\n",
              " 'death',\n",
              " 'proof',\n",
              " 'respect',\n",
              " 'bitch',\n",
              " 'science',\n",
              " 'human',\n",
              " 'biased',\n",
              " 'comes',\n",
              " 'helpful',\n",
              " 'large',\n",
              " 'accepted',\n",
              " 'available',\n",
              " 'exist',\n",
              " 'series',\n",
              " 'tildes',\n",
              " 'opinions',\n",
              " 'hand',\n",
              " '6',\n",
              " 'indicate',\n",
              " 'sections',\n",
              " 'rights',\n",
              " 'necessary',\n",
              " 'act',\n",
              " 'meaning',\n",
              " 'attempt',\n",
              " 'accept',\n",
              " 'personally',\n",
              " 'statements',\n",
              " 'violation',\n",
              " 'months',\n",
              " 'criticism',\n",
              " 'accurate',\n",
              " 'action',\n",
              " 'usually',\n",
              " 'unblock',\n",
              " 'german',\n",
              " 'pig',\n",
              " 'cause',\n",
              " 'yeah',\n",
              " 'living',\n",
              " 'copy',\n",
              " 'debate',\n",
              " 'upon',\n",
              " 'assume',\n",
              " 'july',\n",
              " 'calling',\n",
              " 'standard',\n",
              " 'video',\n",
              " 'play',\n",
              " 'rest',\n",
              " 'tagged',\n",
              " 'doubt',\n",
              " 'sex',\n",
              " 'multiple',\n",
              " 'theyre',\n",
              " 'historical',\n",
              " 'serious',\n",
              " 'details',\n",
              " 'dick',\n",
              " 'youll',\n",
              " 'separate',\n",
              " 'manual',\n",
              " 'record',\n",
              " 'blocking',\n",
              " 'afd',\n",
              " 'explaining',\n",
              " 'situation',\n",
              " 'refer',\n",
              " 'wikiproject',\n",
              " 'heard',\n",
              " 'online',\n",
              " 'level',\n",
              " 'fix',\n",
              " 'asking',\n",
              " '7',\n",
              " 'complete',\n",
              " 'speak',\n",
              " 'lack',\n",
              " 'messages',\n",
              " 'none',\n",
              " 'prove',\n",
              " 'third',\n",
              " 'subjects',\n",
              " 'church',\n",
              " 'apparently',\n",
              " '2009',\n",
              " 'south',\n",
              " 'rationale',\n",
              " 'bullshit',\n",
              " 'data',\n",
              " 'directly',\n",
              " 'august',\n",
              " 'period',\n",
              " 'legal',\n",
              " 'behavior',\n",
              " 'difference',\n",
              " 'contribute',\n",
              " 'greek',\n",
              " 'huge',\n",
              " 'gets',\n",
              " 'wikipedian',\n",
              " 'couple',\n",
              " 'supposed',\n",
              " 'among',\n",
              " 'early',\n",
              " 'except',\n",
              " 'march',\n",
              " 'close',\n",
              " 'quality',\n",
              " 'space',\n",
              " 'meant',\n",
              " 'countries',\n",
              " 'run',\n",
              " 'team',\n",
              " 'uses',\n",
              " 'military',\n",
              " 'b',\n",
              " 'changing',\n",
              " 'existing',\n",
              " 'specifically',\n",
              " 'significant',\n",
              " '2010',\n",
              " 'pillars',\n",
              " 'fish',\n",
              " 'incorrect',\n",
              " 'culture',\n",
              " 'described',\n",
              " 'produce',\n",
              " 'jewish',\n",
              " '24',\n",
              " 'uk',\n",
              " 'disruptive',\n",
              " 'd',\n",
              " 'field',\n",
              " 'error',\n",
              " 'india',\n",
              " 'head',\n",
              " 'primary',\n",
              " 'friend',\n",
              " 'earlier',\n",
              " 'sometimes',\n",
              " 'outside',\n",
              " '20',\n",
              " 'purpose',\n",
              " 'administrators',\n",
              " 'modern',\n",
              " 'photo',\n",
              " 'table',\n",
              " 'particularly',\n",
              " 't',\n",
              " 'release',\n",
              " 'gave',\n",
              " 'box',\n",
              " 'cases',\n",
              " 'inclusion',\n",
              " 'born',\n",
              " 'pictures',\n",
              " 'readers',\n",
              " 'june',\n",
              " 'character',\n",
              " 'vote',\n",
              " 'okay',\n",
              " 'groups',\n",
              " 'anonymous',\n",
              " 'abuse',\n",
              " 'arguments',\n",
              " 'business',\n",
              " 'shall',\n",
              " 'sock',\n",
              " 'tutorial',\n",
              " 'january',\n",
              " 'friends',\n",
              " 'numbers',\n",
              " 'control',\n",
              " 'thinking',\n",
              " 'member',\n",
              " 'linked',\n",
              " 'happen',\n",
              " 'reported',\n",
              " 'contest',\n",
              " 'coming',\n",
              " 'takes',\n",
              " 'concerns',\n",
              " 'allow',\n",
              " 'wait',\n",
              " 'majority',\n",
              " 'giving',\n",
              " '8',\n",
              " 'bring',\n",
              " 'eg',\n",
              " 'worth',\n",
              " 'kill',\n",
              " 'totally',\n",
              " 'red',\n",
              " 'force',\n",
              " 'decided',\n",
              " 'discussed',\n",
              " 'house',\n",
              " 'finally',\n",
              " 'absolutely',\n",
              " 'putting',\n",
              " 'scientific',\n",
              " 'respond',\n",
              " 'mistake',\n",
              " 'decision',\n",
              " 'de',\n",
              " 'lost',\n",
              " 'entirely',\n",
              " '100',\n",
              " 'towards',\n",
              " 'merely',\n",
              " 'home',\n",
              " 'neither',\n",
              " 'dear',\n",
              " 'independent',\n",
              " 'international',\n",
              " 'song',\n",
              " 'balls',\n",
              " 'wants',\n",
              " 'possibly',\n",
              " 'unsigned',\n",
              " 'million',\n",
              " 'irrelevant',\n",
              " 'standards',\n",
              " 'april',\n",
              " '12',\n",
              " 'press',\n",
              " 'figure',\n",
              " 'organization',\n",
              " 'looked',\n",
              " 'inappropriate',\n",
              " 'chance',\n",
              " 'posting',\n",
              " 'population',\n",
              " 'advice',\n",
              " 'posts',\n",
              " 'north',\n",
              " 'events',\n",
              " 'unfortunately',\n",
              " 'named',\n",
              " 'album',\n",
              " ...]"
            ]
          },
          "metadata": {},
          "execution_count": 14
        }
      ],
      "source": [
        "vectorizer.get_vocabulary()"
      ]
    },
    {
      "cell_type": "code",
      "execution_count": 15,
      "metadata": {
        "colab": {
          "base_uri": "https://localhost:8080/"
        },
        "id": "-aXwk3fIm2F-",
        "outputId": "b7064e9b-45f8-4ad9-9d8b-1f026e078382"
      },
      "outputs": [
        {
          "output_type": "execute_result",
          "data": {
            "text/plain": [
              "<tf.Tensor: shape=(5,), dtype=int64, numpy=array([288, 263, 306,   9, 275])>"
            ]
          },
          "metadata": {},
          "execution_count": 15
        }
      ],
      "source": [
        "#Example of working vectorizer encoding a scentence\n",
        "vectorizer(\"Hello World, life is Great\")[:5]"
      ]
    },
    {
      "cell_type": "code",
      "execution_count": 16,
      "metadata": {
        "id": "1yMi9qbwn7vr"
      },
      "outputs": [],
      "source": [
        "vectorized_text = vectorizer(x.values)"
      ]
    },
    {
      "cell_type": "code",
      "execution_count": 17,
      "metadata": {
        "colab": {
          "base_uri": "https://localhost:8080/"
        },
        "id": "hC2vjAKeoUck",
        "outputId": "d5e90d61-5b2d-4f68-f2bc-3388b89d6152"
      },
      "outputs": [
        {
          "output_type": "execute_result",
          "data": {
            "text/plain": [
              "<tf.Tensor: shape=(159571, 1800), dtype=int64, numpy=\n",
              "array([[  645,    76,     2, ...,     0,     0,     0],\n",
              "       [    1,    54,  2489, ...,     0,     0,     0],\n",
              "       [  425,   441,    70, ...,     0,     0,     0],\n",
              "       ...,\n",
              "       [32445,  7392,   383, ...,     0,     0,     0],\n",
              "       [    5,    12,   534, ...,     0,     0,     0],\n",
              "       [    5,     8,   130, ...,     0,     0,     0]])>"
            ]
          },
          "metadata": {},
          "execution_count": 17
        }
      ],
      "source": [
        "vectorized_text # the shape tells us that we have size of 159751 scentences, each scentence with max length of 1800 words and if some scentences are shorter, we fill it out with 0s"
      ]
    },
    {
      "cell_type": "code",
      "execution_count": 18,
      "metadata": {
        "id": "4ld1jFiroe9H"
      },
      "outputs": [],
      "source": [
        "# Creating a dataset generation pipeline\n",
        "dataset = tf.data.Dataset.from_tensor_slices((vectorized_text,y))\n",
        "dataset=dataset.cache()\n",
        "dataset=dataset.shuffle(160000)\n",
        "dataset=dataset.batch(256)\n",
        "dataset=dataset.prefetch(2)"
      ]
    },
    {
      "cell_type": "code",
      "execution_count": 19,
      "metadata": {
        "colab": {
          "base_uri": "https://localhost:8080/"
        },
        "id": "gkgGNjWlqvnK",
        "outputId": "94302467-d757-42ad-fbfb-997fe4422837"
      },
      "outputs": [
        {
          "output_type": "execute_result",
          "data": {
            "text/plain": [
              "(array([[   37,   165,  1684, ...,     0,     0,     0],\n",
              "        [    8,    69,    40, ...,     0,     0,     0],\n",
              "        [  147,     8,    19, ...,     0,     0,     0],\n",
              "        ...,\n",
              "        [   70,   265,  1955, ...,     0,     0,     0],\n",
              "        [    7,   152,   397, ...,     0,     0,     0],\n",
              "        [  827, 25318,  2786, ...,     0,     0,     0]]),\n",
              " array([[0, 0, 0, 0, 0, 0],\n",
              "        [0, 0, 0, 0, 1, 0],\n",
              "        [0, 0, 0, 0, 0, 0],\n",
              "        ...,\n",
              "        [0, 0, 0, 0, 0, 0],\n",
              "        [1, 0, 0, 0, 1, 0],\n",
              "        [0, 0, 0, 0, 0, 0]]))"
            ]
          },
          "metadata": {},
          "execution_count": 19
        }
      ],
      "source": [
        "dataset.as_numpy_iterator().next()"
      ]
    },
    {
      "cell_type": "code",
      "execution_count": 20,
      "metadata": {
        "colab": {
          "base_uri": "https://localhost:8080/"
        },
        "id": "bueSDCHGrm4B",
        "outputId": "5e5e2d0f-0add-46be-c5ed-c0cf6a6865a4"
      },
      "outputs": [
        {
          "output_type": "execute_result",
          "data": {
            "text/plain": [
              "624"
            ]
          },
          "metadata": {},
          "execution_count": 20
        }
      ],
      "source": [
        "len(dataset)"
      ]
    },
    {
      "cell_type": "code",
      "execution_count": 21,
      "metadata": {
        "id": "SNMze91urWEc"
      },
      "outputs": [],
      "source": [
        "#Creation of Training,Test and Validation set\n",
        "train = dataset.take(int(len(dataset)*.7))\n",
        "val = dataset.skip(int(len(dataset)*.7)).take(int(len(dataset)*.2))\n",
        "test = dataset.skip(int(len(dataset)*.9)).take(int(len(dataset)*.1))"
      ]
    },
    {
      "cell_type": "code",
      "execution_count": 22,
      "metadata": {
        "id": "nvs5yifTtGTx"
      },
      "outputs": [],
      "source": [
        "train_generator=train.as_numpy_iterator()"
      ]
    },
    {
      "cell_type": "code",
      "execution_count": 23,
      "metadata": {
        "colab": {
          "base_uri": "https://localhost:8080/"
        },
        "id": "An0ihXdMtKQK",
        "outputId": "d9ea53ba-6a15-4a80-99ba-96ca33720fcc"
      },
      "outputs": [
        {
          "output_type": "execute_result",
          "data": {
            "text/plain": [
              "(array([[ 1272,    50,    10, ...,     0,     0,     0],\n",
              "        [   24,  3925, 79577, ...,     0,     0,     0],\n",
              "        [ 2075,   917,  1540, ...,     0,     0,     0],\n",
              "        ...,\n",
              "        [   38,     9,   506, ...,     0,     0,     0],\n",
              "        [ 1897,   274,   799, ...,     0,     0,     0],\n",
              "        [    7,    20,    50, ...,     0,     0,     0]]),\n",
              " array([[0, 0, 0, 0, 0, 0],\n",
              "        [0, 0, 0, 0, 0, 0],\n",
              "        [0, 0, 0, 0, 0, 0],\n",
              "        ...,\n",
              "        [1, 0, 1, 0, 0, 0],\n",
              "        [0, 0, 0, 0, 0, 0],\n",
              "        [1, 0, 0, 0, 1, 0]]))"
            ]
          },
          "metadata": {},
          "execution_count": 23
        }
      ],
      "source": [
        "train_generator.next()"
      ]
    },
    {
      "cell_type": "markdown",
      "metadata": {
        "id": "KDh-U64xuAZG"
      },
      "source": [
        "#4. Model Creation\n",
        "\n",
        "\n",
        "\n",
        "*   Embedding - repersentation of word with certain features as integer or floats.\n",
        "*   We create a Sequential model, use LSTM layer.\n",
        "\n",
        "For more info, refer to - https://www.tensorflow.org/guide/keras/working_with_rnns#:~:text=There%20are%20three%20built%2Din,be%20fed%20to%20next%20timestep.\n",
        "\n"
      ]
    },
    {
      "cell_type": "code",
      "execution_count": 24,
      "metadata": {
        "id": "oYnsxqOUtmO8"
      },
      "outputs": [],
      "source": [
        "from tensorflow.keras.layers import LSTM, Dropout, Bidirectional,Dense,Embedding\n",
        "from tensorflow.keras.models import Sequential"
      ]
    },
    {
      "cell_type": "code",
      "execution_count": 25,
      "metadata": {
        "id": "EoUrYWXbvDXT"
      },
      "outputs": [],
      "source": [
        "# We are instaniating a neural network and add hidden layers in neural network,accordingily.\n",
        "model = Sequential()\n",
        "#Creating Embedding Layer\n",
        "model.add(Embedding(MAX_FEATURES+1,32))\n",
        "# Bidirectional LSTM Layer\n",
        "model.add(Bidirectional(LSTM(32,activation='tanh')))\n",
        "# Feature Extractor Fully connected layers\n",
        "model.add(Dense(128,activation='relu'))\n",
        "model.add(Dense(256,activation='relu'))\n",
        "model.add(Dense(128,activation='relu'))\n",
        "#Output Mapping layers\n",
        "model.add(Dense(6,activation='sigmoid'))"
      ]
    },
    {
      "cell_type": "code",
      "execution_count": 26,
      "metadata": {
        "id": "b20MFpa3vOHl"
      },
      "outputs": [],
      "source": [
        "model.compile(loss='BinaryCrossentropy',optimizer='Adam')"
      ]
    },
    {
      "cell_type": "code",
      "execution_count": 27,
      "metadata": {
        "colab": {
          "base_uri": "https://localhost:8080/"
        },
        "id": "dUzU250P0L0i",
        "outputId": "c3112dfd-44ce-4e68-c2cf-4e74beef5db6"
      },
      "outputs": [
        {
          "output_type": "stream",
          "name": "stdout",
          "text": [
            "Model: \"sequential\"\n",
            "_________________________________________________________________\n",
            " Layer (type)                Output Shape              Param #   \n",
            "=================================================================\n",
            " embedding (Embedding)       (None, None, 32)          6400032   \n",
            "                                                                 \n",
            " bidirectional (Bidirectiona  (None, 64)               16640     \n",
            " l)                                                              \n",
            "                                                                 \n",
            " dense (Dense)               (None, 128)               8320      \n",
            "                                                                 \n",
            " dense_1 (Dense)             (None, 256)               33024     \n",
            "                                                                 \n",
            " dense_2 (Dense)             (None, 128)               32896     \n",
            "                                                                 \n",
            " dense_3 (Dense)             (None, 6)                 774       \n",
            "                                                                 \n",
            "=================================================================\n",
            "Total params: 6,491,686\n",
            "Trainable params: 6,491,686\n",
            "Non-trainable params: 0\n",
            "_________________________________________________________________\n"
          ]
        }
      ],
      "source": [
        "model.summary()"
      ]
    },
    {
      "cell_type": "code",
      "execution_count": 28,
      "metadata": {
        "colab": {
          "base_uri": "https://localhost:8080/"
        },
        "id": "ywODY-pf0QsS",
        "outputId": "650eb439-30be-4456-dc7b-ff5f329ddf1b"
      },
      "outputs": [
        {
          "output_type": "stream",
          "name": "stdout",
          "text": [
            "Epoch 1/20\n",
            "436/436 [==============================] - 142s 300ms/step - loss: 0.0968 - val_loss: 0.0516\n",
            "Epoch 2/20\n",
            "436/436 [==============================] - 100s 230ms/step - loss: 0.0464 - val_loss: 0.0412\n",
            "Epoch 3/20\n",
            "436/436 [==============================] - 86s 198ms/step - loss: 0.0407 - val_loss: 0.0372\n",
            "Epoch 4/20\n",
            "436/436 [==============================] - 75s 172ms/step - loss: 0.0384 - val_loss: 0.0373\n",
            "Epoch 5/20\n",
            "436/436 [==============================] - 66s 152ms/step - loss: 0.0352 - val_loss: 0.0323\n",
            "Epoch 6/20\n",
            "436/436 [==============================] - 67s 153ms/step - loss: 0.0327 - val_loss: 0.0323\n",
            "Epoch 7/20\n",
            "436/436 [==============================] - 62s 142ms/step - loss: 0.0308 - val_loss: 0.0281\n",
            "Epoch 8/20\n",
            "436/436 [==============================] - 60s 138ms/step - loss: 0.0279 - val_loss: 0.0259\n",
            "Epoch 9/20\n",
            "436/436 [==============================] - 61s 140ms/step - loss: 0.0256 - val_loss: 0.0242\n",
            "Epoch 10/20\n",
            "436/436 [==============================] - 57s 130ms/step - loss: 0.0233 - val_loss: 0.0216\n",
            "Epoch 11/20\n",
            "436/436 [==============================] - 58s 133ms/step - loss: 0.0212 - val_loss: 0.0178\n",
            "Epoch 12/20\n",
            "436/436 [==============================] - 57s 131ms/step - loss: 0.0183 - val_loss: 0.0170\n",
            "Epoch 13/20\n",
            "436/436 [==============================] - 57s 131ms/step - loss: 0.0170 - val_loss: 0.0152\n",
            "Epoch 14/20\n",
            "436/436 [==============================] - 57s 131ms/step - loss: 0.0150 - val_loss: 0.0134\n",
            "Epoch 15/20\n",
            "436/436 [==============================] - 54s 124ms/step - loss: 0.0144 - val_loss: 0.0122\n",
            "Epoch 16/20\n",
            "436/436 [==============================] - 56s 129ms/step - loss: 0.0128 - val_loss: 0.0104\n",
            "Epoch 17/20\n",
            "436/436 [==============================] - 56s 127ms/step - loss: 0.0118 - val_loss: 0.0106\n",
            "Epoch 18/20\n",
            "436/436 [==============================] - 56s 129ms/step - loss: 0.0106 - val_loss: 0.0086\n",
            "Epoch 19/20\n",
            "436/436 [==============================] - 56s 129ms/step - loss: 0.0102 - val_loss: 0.0085\n",
            "Epoch 20/20\n",
            "436/436 [==============================] - 55s 126ms/step - loss: 0.0092 - val_loss: 0.0077\n"
          ]
        }
      ],
      "source": [
        "history=model.fit(train,epochs=20,validation_data=val)"
      ]
    },
    {
      "cell_type": "code",
      "execution_count": 29,
      "metadata": {
        "id": "HJxBa_8eaJEU",
        "colab": {
          "base_uri": "https://localhost:8080/"
        },
        "outputId": "2395dea5-9622-453a-848b-8c08e7188a88"
      },
      "outputs": [
        {
          "output_type": "execute_result",
          "data": {
            "text/plain": [
              "{'loss': [0.09681659936904907,\n",
              "  0.04638935253024101,\n",
              "  0.04067002236843109,\n",
              "  0.03841297701001167,\n",
              "  0.03518524393439293,\n",
              "  0.03273627161979675,\n",
              "  0.030814705416560173,\n",
              "  0.027922051027417183,\n",
              "  0.02555750124156475,\n",
              "  0.02325843833386898,\n",
              "  0.02122807875275612,\n",
              "  0.01831147074699402,\n",
              "  0.017040658742189407,\n",
              "  0.014993404969573021,\n",
              "  0.01441896427422762,\n",
              "  0.012844787910580635,\n",
              "  0.011804849840700626,\n",
              "  0.010613549500703812,\n",
              "  0.010157046839594841,\n",
              "  0.009198460727930069],\n",
              " 'val_loss': [0.0516284815967083,\n",
              "  0.041219569742679596,\n",
              "  0.037164248526096344,\n",
              "  0.03725411370396614,\n",
              "  0.032317664474248886,\n",
              "  0.03229381889104843,\n",
              "  0.028106190264225006,\n",
              "  0.025875387713313103,\n",
              "  0.02419201284646988,\n",
              "  0.021649513393640518,\n",
              "  0.017789188772439957,\n",
              "  0.016951508820056915,\n",
              "  0.015227549709379673,\n",
              "  0.013358273543417454,\n",
              "  0.012202768586575985,\n",
              "  0.010359846986830235,\n",
              "  0.010559885762631893,\n",
              "  0.008632122538983822,\n",
              "  0.008481208235025406,\n",
              "  0.007739328779280186]}"
            ]
          },
          "metadata": {},
          "execution_count": 29
        }
      ],
      "source": [
        "history.history"
      ]
    },
    {
      "cell_type": "code",
      "source": [
        "plt.figure(figsize=(8,5))\n",
        "pd.DataFrame(history.history).plot()\n",
        "plt.show()"
      ],
      "metadata": {
        "colab": {
          "base_uri": "https://localhost:8080/",
          "height": 449
        },
        "id": "T9XRyJ4qduGR",
        "outputId": "49fbe8ee-f042-4506-e1eb-6172da1bd1c3"
      },
      "execution_count": 48,
      "outputs": [
        {
          "output_type": "display_data",
          "data": {
            "text/plain": [
              "<Figure size 800x500 with 0 Axes>"
            ]
          },
          "metadata": {}
        },
        {
          "output_type": "display_data",
          "data": {
            "text/plain": [
              "<Figure size 640x480 with 1 Axes>"
            ],
            "image/png": "[encoded data removed]"
          },
          "metadata": {}
        }
      ]
    },
    {
      "cell_type": "markdown",
      "metadata": {
        "id": "F4yF8ZvuaZ-7"
      },
      "source": [
        "#5. Making Predictions\n",
        "\n",
        "To make predictions on our model, we need to tokenize our test input."
      ]
    },
    {
      "cell_type": "code",
      "execution_count": 30,
      "metadata": {
        "id": "UW4QLWskgAIa",
        "colab": {
          "base_uri": "https://localhost:8080/"
        },
        "outputId": "07748f5e-2480-44d2-fd8c-6704e2988c11"
      },
      "outputs": [
        {
          "output_type": "execute_result",
          "data": {
            "text/plain": [
              "Index(['toxic', 'severe_toxic', 'obscene', 'threat', 'insult',\n",
              "       'identity_hate'],\n",
              "      dtype='object')"
            ]
          },
          "metadata": {},
          "execution_count": 30
        }
      ],
      "source": [
        "df.columns[2:]"
      ]
    },
    {
      "cell_type": "code",
      "execution_count": 31,
      "metadata": {
        "id": "l52kTt30ZZWp",
        "colab": {
          "base_uri": "https://localhost:8080/"
        },
        "outputId": "491d6d7c-3548-4b56-914e-1a7bdaf08f35"
      },
      "outputs": [
        {
          "output_type": "execute_result",
          "data": {
            "text/plain": [
              "<tf.Tensor: shape=(3,), dtype=int64, numpy=array([   7,   20, 2982])>"
            ]
          },
          "metadata": {},
          "execution_count": 31
        }
      ],
      "source": [
        "input_text=vectorizer(\"You are terrible\")\n",
        "input_text[:3]"
      ]
    },
    {
      "cell_type": "code",
      "execution_count": 32,
      "metadata": {
        "id": "DW3p_nL5e9bE"
      },
      "outputs": [],
      "source": [
        "batch=test.as_numpy_iterator().next()"
      ]
    },
    {
      "cell_type": "code",
      "execution_count": 33,
      "metadata": {
        "id": "6QoP5Ol5fW8s",
        "colab": {
          "base_uri": "https://localhost:8080/"
        },
        "outputId": "34515f65-90cd-4455-8d82-87b5a466a039"
      },
      "outputs": [
        {
          "output_type": "execute_result",
          "data": {
            "text/plain": [
              "array([[   7,   20, 2982, ...,    0,    0,    0]])"
            ]
          },
          "metadata": {},
          "execution_count": 33
        }
      ],
      "source": [
        "np.expand_dims(input_text,0) #We do so because our model is expecting a batch as input rather than a single text"
      ]
    },
    {
      "cell_type": "code",
      "execution_count": 34,
      "metadata": {
        "id": "8tj2VYjHfjh1",
        "colab": {
          "base_uri": "https://localhost:8080/"
        },
        "outputId": "5e8b17ec-ecda-4d2d-c376-c65cd7a3c31a"
      },
      "outputs": [
        {
          "output_type": "stream",
          "name": "stdout",
          "text": [
            "1/1 [==============================] - 1s 773ms/step\n"
          ]
        },
        {
          "output_type": "execute_result",
          "data": {
            "text/plain": [
              "array([[9.1193825e-01, 1.2054272e-05, 3.4554407e-03, 1.8811552e-05,\n",
              "        9.0501092e-02, 8.0075784e-05]], dtype=float32)"
            ]
          },
          "metadata": {},
          "execution_count": 34
        }
      ],
      "source": [
        "res=model.predict(np.expand_dims(input_text,0))\n",
        "res"
      ]
    },
    {
      "cell_type": "code",
      "execution_count": 35,
      "metadata": {
        "id": "q062jnkMfsuX"
      },
      "outputs": [],
      "source": [
        "# batch prediction\n",
        "batch_x,batch_y=test.as_numpy_iterator().next()"
      ]
    },
    {
      "cell_type": "code",
      "execution_count": 36,
      "metadata": {
        "id": "xi68Z_-LjeuH",
        "colab": {
          "base_uri": "https://localhost:8080/"
        },
        "outputId": "fa6b76ba-74c4-4bb4-c771-8b668f2d36c6"
      },
      "outputs": [
        {
          "output_type": "stream",
          "name": "stdout",
          "text": [
            "8/8 [==============================] - 0s 48ms/step\n"
          ]
        },
        {
          "output_type": "execute_result",
          "data": {
            "text/plain": [
              "array([[0, 0, 0, 0, 0, 0],\n",
              "       [0, 0, 0, 0, 0, 0],\n",
              "       [0, 0, 0, 0, 0, 0],\n",
              "       ...,\n",
              "       [0, 0, 0, 0, 0, 0],\n",
              "       [0, 0, 0, 0, 0, 0],\n",
              "       [0, 0, 0, 0, 0, 0]])"
            ]
          },
          "metadata": {},
          "execution_count": 36
        }
      ],
      "source": [
        "(model.predict(batch_x)>0.5).astype(int)"
      ]
    },
    {
      "cell_type": "markdown",
      "metadata": {
        "id": "m4rl9xzhkJgB"
      },
      "source": [
        "#6. Evaluating Model\n",
        "\n",
        "Since, we have multiple binary outputs,we will use binary metrics like **precision** and **recall**."
      ]
    },
    {
      "cell_type": "code",
      "execution_count": 37,
      "metadata": {
        "id": "Tuv9pBPBjl_q"
      },
      "outputs": [],
      "source": [
        "from tensorflow.keras.metrics import Precision, Recall, CategoricalAccuracy"
      ]
    },
    {
      "cell_type": "code",
      "execution_count": 38,
      "metadata": {
        "id": "4dbR8SVmksTr"
      },
      "outputs": [],
      "source": [
        "pre=Precision()\n",
        "re=Recall()\n",
        "acc=CategoricalAccuracy()"
      ]
    },
    {
      "cell_type": "code",
      "execution_count": 39,
      "metadata": {
        "id": "lBDxJIw3k9Bf",
        "colab": {
          "base_uri": "https://localhost:8080/"
        },
        "outputId": "54d04ffc-e884-4e2d-e17d-a8cca5feaa98"
      },
      "outputs": [
        {
          "output_type": "stream",
          "name": "stdout",
          "text": [
            "8/8 [==============================] - 0s 34ms/step\n",
            "8/8 [==============================] - 0s 36ms/step\n",
            "8/8 [==============================] - 0s 33ms/step\n",
            "8/8 [==============================] - 0s 35ms/step\n",
            "8/8 [==============================] - 0s 33ms/step\n",
            "8/8 [==============================] - 0s 34ms/step\n",
            "8/8 [==============================] - 0s 33ms/step\n",
            "8/8 [==============================] - 0s 34ms/step\n",
            "8/8 [==============================] - 0s 34ms/step\n",
            "8/8 [==============================] - 0s 33ms/step\n",
            "8/8 [==============================] - 0s 35ms/step\n",
            "8/8 [==============================] - 0s 33ms/step\n",
            "8/8 [==============================] - 0s 34ms/step\n",
            "8/8 [==============================] - 0s 34ms/step\n",
            "8/8 [==============================] - 0s 50ms/step\n",
            "8/8 [==============================] - 0s 54ms/step\n",
            "8/8 [==============================] - 0s 51ms/step\n",
            "8/8 [==============================] - 0s 52ms/step\n",
            "8/8 [==============================] - 0s 33ms/step\n",
            "8/8 [==============================] - 0s 34ms/step\n",
            "8/8 [==============================] - 0s 32ms/step\n",
            "8/8 [==============================] - 0s 34ms/step\n",
            "8/8 [==============================] - 0s 33ms/step\n",
            "8/8 [==============================] - 0s 34ms/step\n",
            "8/8 [==============================] - 0s 34ms/step\n",
            "8/8 [==============================] - 0s 35ms/step\n",
            "8/8 [==============================] - 0s 34ms/step\n",
            "8/8 [==============================] - 0s 34ms/step\n",
            "8/8 [==============================] - 0s 33ms/step\n",
            "8/8 [==============================] - 0s 35ms/step\n",
            "8/8 [==============================] - 0s 34ms/step\n",
            "8/8 [==============================] - 0s 34ms/step\n",
            "8/8 [==============================] - 0s 35ms/step\n",
            "8/8 [==============================] - 0s 33ms/step\n",
            "8/8 [==============================] - 0s 34ms/step\n",
            "8/8 [==============================] - 0s 34ms/step\n",
            "8/8 [==============================] - 0s 33ms/step\n",
            "8/8 [==============================] - 0s 33ms/step\n",
            "8/8 [==============================] - 0s 34ms/step\n",
            "8/8 [==============================] - 0s 34ms/step\n",
            "8/8 [==============================] - 0s 33ms/step\n",
            "8/8 [==============================] - 0s 35ms/step\n",
            "8/8 [==============================] - 0s 33ms/step\n",
            "8/8 [==============================] - 0s 33ms/step\n",
            "8/8 [==============================] - 0s 34ms/step\n",
            "8/8 [==============================] - 0s 34ms/step\n",
            "8/8 [==============================] - 0s 34ms/step\n",
            "8/8 [==============================] - 0s 51ms/step\n",
            "8/8 [==============================] - 0s 52ms/step\n",
            "8/8 [==============================] - 0s 54ms/step\n",
            "8/8 [==============================] - 0s 39ms/step\n",
            "8/8 [==============================] - 0s 33ms/step\n",
            "8/8 [==============================] - 0s 34ms/step\n",
            "8/8 [==============================] - 0s 35ms/step\n",
            "8/8 [==============================] - 0s 33ms/step\n",
            "8/8 [==============================] - 0s 34ms/step\n",
            "8/8 [==============================] - 0s 36ms/step\n",
            "8/8 [==============================] - 0s 33ms/step\n",
            "8/8 [==============================] - 0s 34ms/step\n",
            "8/8 [==============================] - 0s 33ms/step\n",
            "8/8 [==============================] - 0s 32ms/step\n",
            "8/8 [==============================] - 0s 34ms/step\n"
          ]
        }
      ],
      "source": [
        "#setting up test pipeline\n",
        "for batch in test.as_numpy_iterator():\n",
        "  #Unpack the batch\n",
        "  x_true, y_true = batch\n",
        "\n",
        "  #Make a prediction\n",
        "  y_predict=model.predict(x_true)\n",
        "\n",
        "  #Flatten the predictions\n",
        "  y_true=y_true.flatten()\n",
        "  y_predict=y_predict.flatten()\n",
        "\n",
        "  #Updating the scores\n",
        "  pre.update_state(y_true,y_predict)\n",
        "  re.update_state(y_true,y_predict)\n",
        "  acc.update_state(y_true,y_predict)"
      ]
    },
    {
      "cell_type": "code",
      "execution_count": 40,
      "metadata": {
        "id": "yJ_FDLZ7mY2z",
        "colab": {
          "base_uri": "https://localhost:8080/"
        },
        "outputId": "32e9fb2b-973d-46c3-c55d-78965c03ee37"
      },
      "outputs": [
        {
          "output_type": "stream",
          "name": "stdout",
          "text": [
            "Precision:0.9538193345069885, Recall:0.9681603908538818, Accuracy:0.032258063554763794\n"
          ]
        }
      ],
      "source": [
        "print(f'Precision:{pre.result().numpy()}, Recall:{re.result().numpy()}, Accuracy:{acc.result().numpy()}')"
      ]
    },
    {
      "cell_type": "markdown",
      "source": [
        "#7. Model Deployment\n",
        "\n",
        "In this, we use Gradio library from Python to create a web application for our model."
      ],
      "metadata": {
        "id": "VYze8hQAOXkW"
      }
    },
    {
      "cell_type": "code",
      "execution_count": 41,
      "metadata": {
        "id": "RcvX6bv_wj0G",
        "colab": {
          "base_uri": "https://localhost:8080/"
        },
        "outputId": "0ddf6bdf-e960-4695-9dda-8f15c07ac61c"
      },
      "outputs": [
        {
          "output_type": "stream",
          "name": "stdout",
          "text": [
            "Collecting gradio\n",
            "  Downloading gradio-3.42.0-py3-none-any.whl (20.1 MB)\n",
            "\u001b[2K     \u001b[90m━━━━━━━━━━━━━━━━━━━━━━━━━━━━━━━━━━━━━━━━\u001b[0m \u001b[32m20.1/20.1 MB\u001b[0m \u001b[31m28.9 MB/s\u001b[0m eta \u001b[36m0:00:00\u001b[0m\n",
            "\u001b[?25hRequirement already satisfied: jinja2 in /usr/local/lib/python3.10/dist-packages (3.1.2)\n",
            "Collecting aiofiles<24.0,>=22.0 (from gradio)\n",
            "  Downloading aiofiles-23.2.1-py3-none-any.whl (15 kB)\n",
            "Requirement already satisfied: altair<6.0,>=4.2.0 in /usr/local/lib/python3.10/dist-packages (from gradio) (4.2.2)\n",
            "Collecting fastapi (from gradio)\n",
            "  Downloading fastapi-0.103.1-py3-none-any.whl (66 kB)\n",
            "\u001b[2K     \u001b[90m━━━━━━━━━━━━━━━━━━━━━━━━━━━━━━━━━━━━━━━━\u001b[0m \u001b[32m66.2/66.2 kB\u001b[0m \u001b[31m8.4 MB/s\u001b[0m eta \u001b[36m0:00:00\u001b[0m\n",
            "\u001b[?25hCollecting ffmpy (from gradio)\n",
            "  Downloading ffmpy-0.3.1.tar.gz (5.5 kB)\n",
            "  Preparing metadata (setup.py) ... \u001b[?25l\u001b[?25hdone\n",
            "Collecting gradio-client==0.5.0 (from gradio)\n",
            "  Downloading gradio_client-0.5.0-py3-none-any.whl (298 kB)\n",
            "\u001b[2K     \u001b[90m━━━━━━━━━━━━━━━━━━━━━━━━━━━━━━━━━━━━━━\u001b[0m \u001b[32m298.2/298.2 kB\u001b[0m \u001b[31m32.7 MB/s\u001b[0m eta \u001b[36m0:00:00\u001b[0m\n",
            "\u001b[?25hCollecting httpx (from gradio)\n",
            "  Downloading httpx-0.24.1-py3-none-any.whl (75 kB)\n",
            "\u001b[2K     \u001b[90m━━━━━━━━━━━━━━━━━━━━━━━━━━━━━━━━━━━━━━━━\u001b[0m \u001b[32m75.4/75.4 kB\u001b[0m \u001b[31m9.6 MB/s\u001b[0m eta \u001b[36m0:00:00\u001b[0m\n",
            "\u001b[?25hCollecting huggingface-hub>=0.14.0 (from gradio)\n",
            "  Downloading huggingface_hub-0.16.4-py3-none-any.whl (268 kB)\n",
            "\u001b[2K     \u001b[90m━━━━━━━━━━━━━━━━━━━━━━━━━━━━━━━━━━━━━━\u001b[0m \u001b[32m268.8/268.8 kB\u001b[0m \u001b[31m29.1 MB/s\u001b[0m eta \u001b[36m0:00:00\u001b[0m\n",
            "\u001b[?25hRequirement already satisfied: importlib-resources<7.0,>=1.3 in /usr/local/lib/python3.10/dist-packages (from gradio) (6.0.1)\n",
            "Requirement already satisfied: markupsafe~=2.0 in /usr/local/lib/python3.10/dist-packages (from gradio) (2.1.3)\n",
            "Requirement already satisfied: matplotlib~=3.0 in /usr/local/lib/python3.10/dist-packages (from gradio) (3.7.1)\n",
            "Requirement already satisfied: numpy~=1.0 in /usr/local/lib/python3.10/dist-packages (from gradio) (1.23.5)\n",
            "Collecting orjson~=3.0 (from gradio)\n",
            "  Downloading orjson-3.9.5-cp310-cp310-manylinux_2_17_x86_64.manylinux2014_x86_64.whl (139 kB)\n",
            "\u001b[2K     \u001b[90m━━━━━━━━━━━━━━━━━━━━━━━━━━━━━━━━━━━━━━\u001b[0m \u001b[32m139.9/139.9 kB\u001b[0m \u001b[31m18.7 MB/s\u001b[0m eta \u001b[36m0:00:00\u001b[0m\n",
            "\u001b[?25hRequirement already satisfied: packaging in /usr/local/lib/python3.10/dist-packages (from gradio) (23.1)\n",
            "Requirement already satisfied: pandas<3.0,>=1.0 in /usr/local/lib/python3.10/dist-packages (from gradio) (1.5.3)\n",
            "Requirement already satisfied: pillow<11.0,>=8.0 in /usr/local/lib/python3.10/dist-packages (from gradio) (9.4.0)\n",
            "Requirement already satisfied: pydantic!=1.8,!=1.8.1,!=2.0.0,!=2.0.1,<3.0.0,>=1.7.4 in /usr/local/lib/python3.10/dist-packages (from gradio) (2.2.1)\n",
            "Collecting pydub (from gradio)\n",
            "  Downloading pydub-0.25.1-py2.py3-none-any.whl (32 kB)\n",
            "Collecting python-multipart (from gradio)\n",
            "  Downloading python_multipart-0.0.6-py3-none-any.whl (45 kB)\n",
            "\u001b[2K     \u001b[90m━━━━━━━━━━━━━━━━━━━━━━━━━━━━━━━━━━━━━━━━\u001b[0m \u001b[32m45.7/45.7 kB\u001b[0m \u001b[31m5.5 MB/s\u001b[0m eta \u001b[36m0:00:00\u001b[0m\n",
            "\u001b[?25hRequirement already satisfied: pyyaml<7.0,>=5.0 in /usr/local/lib/python3.10/dist-packages (from gradio) (6.0.1)\n",
            "Requirement already satisfied: requests~=2.0 in /usr/local/lib/python3.10/dist-packages (from gradio) (2.31.0)\n",
            "Collecting semantic-version~=2.0 (from gradio)\n",
            "  Downloading semantic_version-2.10.0-py2.py3-none-any.whl (15 kB)\n",
            "Requirement already satisfied: typing-extensions~=4.0 in /usr/local/lib/python3.10/dist-packages (from gradio) (4.7.1)\n",
            "Collecting uvicorn>=0.14.0 (from gradio)\n",
            "  Downloading uvicorn-0.23.2-py3-none-any.whl (59 kB)\n",
            "\u001b[2K     \u001b[90m━━━━━━━━━━━━━━━━━━━━━━━━━━━━━━━━━━━━━━━━\u001b[0m \u001b[32m59.5/59.5 kB\u001b[0m \u001b[31m7.5 MB/s\u001b[0m eta \u001b[36m0:00:00\u001b[0m\n",
            "\u001b[?25hCollecting websockets<12.0,>=10.0 (from gradio)\n",
            "  Downloading websockets-11.0.3-cp310-cp310-manylinux_2_5_x86_64.manylinux1_x86_64.manylinux_2_17_x86_64.manylinux2014_x86_64.whl (129 kB)\n",
            "\u001b[2K     \u001b[90m━━━━━━━━━━━━━━━━━━━━━━━━━━━━━━━━━━━━━━\u001b[0m \u001b[32m129.9/129.9 kB\u001b[0m \u001b[31m17.2 MB/s\u001b[0m eta \u001b[36m0:00:00\u001b[0m\n",
            "\u001b[?25hRequirement already satisfied: fsspec in /usr/local/lib/python3.10/dist-packages (from gradio-client==0.5.0->gradio) (2023.6.0)\n",
            "Requirement already satisfied: entrypoints in /usr/local/lib/python3.10/dist-packages (from altair<6.0,>=4.2.0->gradio) (0.4)\n",
            "Requirement already satisfied: jsonschema>=3.0 in /usr/local/lib/python3.10/dist-packages (from altair<6.0,>=4.2.0->gradio) (4.19.0)\n",
            "Requirement already satisfied: toolz in /usr/local/lib/python3.10/dist-packages (from altair<6.0,>=4.2.0->gradio) (0.12.0)\n",
            "Requirement already satisfied: filelock in /usr/local/lib/python3.10/dist-packages (from huggingface-hub>=0.14.0->gradio) (3.12.2)\n",
            "Requirement already satisfied: tqdm>=4.42.1 in /usr/local/lib/python3.10/dist-packages (from huggingface-hub>=0.14.0->gradio) (4.66.1)\n",
            "Requirement already satisfied: contourpy>=1.0.1 in /usr/local/lib/python3.10/dist-packages (from matplotlib~=3.0->gradio) (1.1.0)\n",
            "Requirement already satisfied: cycler>=0.10 in /usr/local/lib/python3.10/dist-packages (from matplotlib~=3.0->gradio) (0.11.0)\n",
            "Requirement already satisfied: fonttools>=4.22.0 in /usr/local/lib/python3.10/dist-packages (from matplotlib~=3.0->gradio) (4.42.1)\n",
            "Requirement already satisfied: kiwisolver>=1.0.1 in /usr/local/lib/python3.10/dist-packages (from matplotlib~=3.0->gradio) (1.4.4)\n",
            "Requirement already satisfied: pyparsing>=2.3.1 in /usr/local/lib/python3.10/dist-packages (from matplotlib~=3.0->gradio) (3.1.1)\n",
            "Requirement already satisfied: python-dateutil>=2.7 in /usr/local/lib/python3.10/dist-packages (from matplotlib~=3.0->gradio) (2.8.2)\n",
            "Requirement already satisfied: pytz>=2020.1 in /usr/local/lib/python3.10/dist-packages (from pandas<3.0,>=1.0->gradio) (2023.3)\n",
            "Requirement already satisfied: annotated-types>=0.4.0 in /usr/local/lib/python3.10/dist-packages (from pydantic!=1.8,!=1.8.1,!=2.0.0,!=2.0.1,<3.0.0,>=1.7.4->gradio) (0.5.0)\n",
            "Requirement already satisfied: pydantic-core==2.6.1 in /usr/local/lib/python3.10/dist-packages (from pydantic!=1.8,!=1.8.1,!=2.0.0,!=2.0.1,<3.0.0,>=1.7.4->gradio) (2.6.1)\n",
            "Requirement already satisfied: charset-normalizer<4,>=2 in /usr/local/lib/python3.10/dist-packages (from requests~=2.0->gradio) (3.2.0)\n",
            "Requirement already satisfied: idna<4,>=2.5 in /usr/local/lib/python3.10/dist-packages (from requests~=2.0->gradio) (3.4)\n",
            "Requirement already satisfied: urllib3<3,>=1.21.1 in /usr/local/lib/python3.10/dist-packages (from requests~=2.0->gradio) (2.0.4)\n",
            "Requirement already satisfied: certifi>=2017.4.17 in /usr/local/lib/python3.10/dist-packages (from requests~=2.0->gradio) (2023.7.22)\n",
            "Requirement already satisfied: click>=7.0 in /usr/local/lib/python3.10/dist-packages (from uvicorn>=0.14.0->gradio) (8.1.7)\n",
            "Collecting h11>=0.8 (from uvicorn>=0.14.0->gradio)\n",
            "  Downloading h11-0.14.0-py3-none-any.whl (58 kB)\n",
            "\u001b[2K     \u001b[90m━━━━━━━━━━━━━━━━━━━━━━━━━━━━━━━━━━━━━━━━\u001b[0m \u001b[32m58.3/58.3 kB\u001b[0m \u001b[31m5.5 MB/s\u001b[0m eta \u001b[36m0:00:00\u001b[0m\n",
            "\u001b[?25hRequirement already satisfied: anyio<4.0.0,>=3.7.1 in /usr/local/lib/python3.10/dist-packages (from fastapi->gradio) (3.7.1)\n",
            "Collecting starlette<0.28.0,>=0.27.0 (from fastapi->gradio)\n",
            "  Downloading starlette-0.27.0-py3-none-any.whl (66 kB)\n",
            "\u001b[2K     \u001b[90m━━━━━━━━━━━━━━━━━━━━━━━━━━━━━━━━━━━━━━━━\u001b[0m \u001b[32m67.0/67.0 kB\u001b[0m \u001b[31m8.3 MB/s\u001b[0m eta \u001b[36m0:00:00\u001b[0m\n",
            "\u001b[?25hCollecting httpcore<0.18.0,>=0.15.0 (from httpx->gradio)\n",
            "  Downloading httpcore-0.17.3-py3-none-any.whl (74 kB)\n",
            "\u001b[2K     \u001b[90m━━━━━━━━━━━━━━━━━━━━━━━━━━━━━━━━━━━━━━━━\u001b[0m \u001b[32m74.5/74.5 kB\u001b[0m \u001b[31m10.1 MB/s\u001b[0m eta \u001b[36m0:00:00\u001b[0m\n",
            "\u001b[?25hRequirement already satisfied: sniffio in /usr/local/lib/python3.10/dist-packages (from httpx->gradio) (1.3.0)\n",
            "Requirement already satisfied: exceptiongroup in /usr/local/lib/python3.10/dist-packages (from anyio<4.0.0,>=3.7.1->fastapi->gradio) (1.1.3)\n",
            "Requirement already satisfied: attrs>=22.2.0 in /usr/local/lib/python3.10/dist-packages (from jsonschema>=3.0->altair<6.0,>=4.2.0->gradio) (23.1.0)\n",
            "Requirement already satisfied: jsonschema-specifications>=2023.03.6 in /usr/local/lib/python3.10/dist-packages (from jsonschema>=3.0->altair<6.0,>=4.2.0->gradio) (2023.7.1)\n",
            "Requirement already satisfied: referencing>=0.28.4 in /usr/local/lib/python3.10/dist-packages (from jsonschema>=3.0->altair<6.0,>=4.2.0->gradio) (0.30.2)\n",
            "Requirement already satisfied: rpds-py>=0.7.1 in /usr/local/lib/python3.10/dist-packages (from jsonschema>=3.0->altair<6.0,>=4.2.0->gradio) (0.9.2)\n",
            "Requirement already satisfied: six>=1.5 in /usr/local/lib/python3.10/dist-packages (from python-dateutil>=2.7->matplotlib~=3.0->gradio) (1.16.0)\n",
            "Building wheels for collected packages: ffmpy\n",
            "  Building wheel for ffmpy (setup.py) ... \u001b[?25l\u001b[?25hdone\n",
            "  Created wheel for ffmpy: filename=ffmpy-0.3.1-py3-none-any.whl size=5579 sha256=564b43eee7441875fd8a7686d967f644eb4e9160f70ed4d899684a31dfc282f1\n",
            "  Stored in directory: /root/.cache/pip/wheels/01/a6/d1/1c0828c304a4283b2c1639a09ad86f83d7c487ef34c6b4a1bf\n",
            "Successfully built ffmpy\n",
            "Installing collected packages: pydub, ffmpy, websockets, semantic-version, python-multipart, orjson, h11, aiofiles, uvicorn, starlette, huggingface-hub, httpcore, httpx, fastapi, gradio-client, gradio\n",
            "Successfully installed aiofiles-23.2.1 fastapi-0.103.1 ffmpy-0.3.1 gradio-3.42.0 gradio-client-0.5.0 h11-0.14.0 httpcore-0.17.3 httpx-0.24.1 huggingface-hub-0.16.4 orjson-3.9.5 pydub-0.25.1 python-multipart-0.0.6 semantic-version-2.10.0 starlette-0.27.0 uvicorn-0.23.2 websockets-11.0.3\n"
          ]
        }
      ],
      "source": [
        "!pip install gradio jinja2"
      ]
    },
    {
      "cell_type": "code",
      "source": [
        "import gradio as gr"
      ],
      "metadata": {
        "id": "J2JwxE-qOsTM"
      },
      "execution_count": 42,
      "outputs": []
    },
    {
      "cell_type": "code",
      "source": [
        "def score_comment(comment):\n",
        "  vectorized_comment=vectorizer([comment])\n",
        "  results=model.predict(vectorized_comment)\n",
        "\n",
        "  text=''\n",
        "  for idx,col in enumerate(df.columns[2:]):\n",
        "    text+='{} : {}\\n'.format(col,results[0][idx]>0.5)\n",
        "\n",
        "  return text"
      ],
      "metadata": {
        "id": "W9WgLl69O3nk"
      },
      "execution_count": 43,
      "outputs": []
    },
    {
      "cell_type": "code",
      "source": [
        "interface=gr.Interface(fn=score_comment,\n",
        "                       inputs=gr.inputs.Textbox(lines=2,placeholder=\"Enter the comment\"),\n",
        "                       outputs='text')"
      ],
      "metadata": {
        "colab": {
          "base_uri": "https://localhost:8080/"
        },
        "id": "g54Wc8UaUszH",
        "outputId": "85d3b9a1-024c-443c-87c3-543cf0e1c698"
      },
      "execution_count": 44,
      "outputs": [
        {
          "output_type": "stream",
          "name": "stderr",
          "text": [
            "<ipython-input-44-f55dd3f47e98>:2: GradioDeprecationWarning: Usage of gradio.inputs is deprecated, and will not be supported in the future, please import your component from gradio.components\n",
            "  inputs=gr.inputs.Textbox(lines=2,placeholder=\"Enter the comment\"),\n",
            "<ipython-input-44-f55dd3f47e98>:2: GradioDeprecationWarning: `optional` parameter is deprecated, and it has no effect\n",
            "  inputs=gr.inputs.Textbox(lines=2,placeholder=\"Enter the comment\"),\n",
            "<ipython-input-44-f55dd3f47e98>:2: GradioDeprecationWarning: `numeric` parameter is deprecated, and it has no effect\n",
            "  inputs=gr.inputs.Textbox(lines=2,placeholder=\"Enter the comment\"),\n"
          ]
        }
      ]
    },
    {
      "cell_type": "code",
      "source": [
        "interface.launch(share=True)"
      ],
      "metadata": {
        "colab": {
          "base_uri": "https://localhost:8080/",
          "height": 592
        },
        "id": "7aRIgFs9WIHY",
        "outputId": "3e8d58ed-3e5a-49bd-89ce-bc5c3a63b4d1"
      },
      "execution_count": 45,
      "outputs": [
        {
          "output_type": "stream",
          "name": "stdout",
          "text": [
            "Colab notebook detected. To show errors in colab notebook, set debug=True in launch()\n",
            "Running on public URL: https://768a29b86ec63b6aab.gradio.live\n",
            "\n",
            "This share link expires in 72 hours. For free permanent hosting and GPU upgrades, run `gradio deploy` from Terminal to deploy to Spaces (https://huggingface.co/spaces)\n"
          ]
        },
        {
          "output_type": "display_data",
          "data": {
            "text/plain": [
              "<IPython.core.display.HTML object>"
            ],
            "text/html": [
              "<div><iframe src=\"https://768a29b86ec63b6aab.gradio.live\" width=\"100%\" height=\"500\" allow=\"autoplay; camera; microphone; clipboard-read; clipboard-write;\" frameborder=\"0\" allowfullscreen></iframe></div>"
            ]
          },
          "metadata": {}
        },
        {
          "output_type": "execute_result",
          "data": {
            "text/plain": []
          },
          "metadata": {},
          "execution_count": 45
        }
      ]
    }
  ],
  "metadata": {
    "accelerator": "GPU",
    "colab": {
      "provenance": [],
      "gpuType": "T4"
    },
    "kernelspec": {
      "display_name": "Python 3",
      "name": "python3"
    },
    "language_info": {
      "codemirror_mode": {
        "name": "ipython",
        "version": 3
      },
      "file_extension": ".py",
      "mimetype": "text/x-python",
      "name": "python",
      "nbconvert_exporter": "python",
      "pygments_lexer": "ipython3",
      "version": "3.9.13"
    }
  },
  "nbformat": 4,
  "nbformat_minor": 0
}